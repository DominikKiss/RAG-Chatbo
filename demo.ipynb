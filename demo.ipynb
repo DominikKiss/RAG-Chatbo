{
 "cells": [
  {
   "cell_type": "code",
   "execution_count": null,
   "id": "bf0f443f",
   "metadata": {},
   "outputs": [],
   "source": [
    "import os\n",
    "import sys\n",
    "sys.path.append(os.path.abspath(\"src\"))\n",
    "from simple_agent import SimpleAgent\n",
    "from vector_store import VectorStore\n",
    "from data_processing import load_data, process_documents\n",
    "from langgraph_workflow import build_workflow"
   ]
  },
  {
   "cell_type": "code",
   "execution_count": null,
   "id": "2a53f6c9",
   "metadata": {},
   "outputs": [],
   "source": [
    "documents = load_data(\"./data\")\n",
    "chunks = process_documents(documents)\n",
    "\n",
    "print(f\"{len(chunks)} szövegrész feldolgozva.\")\n"
   ]
  },
  {
   "cell_type": "code",
   "execution_count": null,
   "id": "7046e148",
   "metadata": {},
   "outputs": [],
   "source": [
    "vs = VectorStore()\n",
    "vs.add_documents(chunks)\n",
    "\n",
    "print(vs.get_collection_info())\n"
   ]
  },
  {
   "cell_type": "code",
   "execution_count": null,
   "id": "44be70a7",
   "metadata": {},
   "outputs": [],
   "source": [
    "agent = SimpleAgent(vs)\n",
    "workflow = build_workflow(agent)"
   ]
  },
  {
   "cell_type": "code",
   "execution_count": null,
   "id": "79113b00",
   "metadata": {},
   "outputs": [],
   "source": [
    "questions = [\n",
    "    \"Mi az a neural network ?\",\n",
    "    \"Mondj valamit a Pythonról\",\n",
    "    \"Hogyan működik a RAG?\",\n",
    "    \"Nvidia\"\n",
    "]\n",
    "\n",
    "for q in questions:\n",
    "    print(f\"\\n🔍 Kérdés: {q}\")\n",
    "    result = workflow.invoke({\"question\": q})\n",
    "    print(result[\"response\"])\n"
   ]
  }
 ],
 "metadata": {
  "kernelspec": {
   "display_name": ".venv",
   "language": "python",
   "name": "python3"
  },
  "language_info": {
   "codemirror_mode": {
    "name": "ipython",
    "version": 3
   },
   "file_extension": ".py",
   "mimetype": "text/x-python",
   "name": "python",
   "nbconvert_exporter": "python",
   "pygments_lexer": "ipython3",
   "version": "3.9.6"
  }
 },
 "nbformat": 4,
 "nbformat_minor": 5
}
